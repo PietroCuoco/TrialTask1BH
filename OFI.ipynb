{
 "cells": [
  {
   "cell_type": "code",
   "execution_count": 1,
   "id": "650aff47-4212-481c-a5c5-a5a00b71e765",
   "metadata": {},
   "outputs": [
    {
     "name": "stdout",
     "output_type": "stream",
     "text": [
      "                        timestamp  ofi_best  ofi_multi  ofi_integrated\n",
      "0  2024-10-21T11:54:29.221064336Z       0.0        0.0        0.000000\n",
      "1  2024-10-21T11:54:29.223769812Z       2.0        2.0       -0.007063\n",
      "2  2024-10-21T11:54:29.225030400Z       3.0        3.0       -0.010594\n",
      "3  2024-10-21T11:54:29.712434212Z       0.0      200.0      -43.400473\n",
      "4  2024-10-21T11:54:29.764673165Z       0.0     -200.0       43.400473\n"
     ]
    }
   ],
   "source": [
    "import pandas as pd\n",
    "import numpy as np\n",
    "from sklearn.decomposition import PCA\n",
    "from typing import Tuple\n",
    "\n",
    "# 1. Function to compute bid and ask size deltas\n",
    "def compute_bid_ask_deltas(df: pd.DataFrame, levels: int) -> Tuple[pd.DataFrame, pd.DataFrame]:\n",
    "    bid_cols = [f\"bid_sz_{i:02d}\" for i in range(levels)]\n",
    "    ask_cols = [f\"ask_sz_{i:02d}\" for i in range(levels)]\n",
    "    bid_deltas = df[bid_cols].diff().fillna(0)\n",
    "    ask_deltas = df[ask_cols].diff().fillna(0)\n",
    "    return bid_deltas, ask_deltas\n",
    "\n",
    "# 2. Compute best-level OFI\n",
    "def compute_ofi_best(bid_deltas: pd.DataFrame, ask_deltas: pd.DataFrame) -> pd.Series:\n",
    "    return bid_deltas[\"bid_sz_00\"] - ask_deltas[\"ask_sz_00\"]\n",
    "\n",
    "# 3. Compute multi-level OFI\n",
    "def compute_ofi_multi(bid_deltas: pd.DataFrame, ask_deltas: pd.DataFrame) -> pd.Series:\n",
    "    return (bid_deltas.values - ask_deltas.values).sum(axis=1)\n",
    "\n",
    "# 4. Compute integrated OFI via PCA\n",
    "def compute_ofi_integrated(bid_deltas: pd.DataFrame, ask_deltas: pd.DataFrame) -> pd.Series:\n",
    "    ofi_levels = bid_deltas.values - ask_deltas.values\n",
    "    pca = PCA(n_components=1)\n",
    "    pca.fit(ofi_levels)\n",
    "    weights = pca.components_[0]\n",
    "    weights /= np.sum(np.abs(weights))\n",
    "    return ofi_levels @ weights\n",
    "\n",
    "# 5. Wrapper function to build all OFI features\n",
    "def build_ofi_features(\n",
    "    df: pd.DataFrame,\n",
    "    timestamp_col: str = \"ts_event\",\n",
    "    levels: int = 10\n",
    ") -> pd.DataFrame:\n",
    "    # Sort by timestamp\n",
    "    df_sorted = df.sort_values(timestamp_col).reset_index(drop=True)\n",
    "    # Compute deltas\n",
    "    bid_deltas, ask_deltas = compute_bid_ask_deltas(df_sorted, levels)\n",
    "    # Build features\n",
    "    ofi_df = pd.DataFrame({\n",
    "        \"timestamp\": df_sorted[timestamp_col],\n",
    "        \"ofi_best\": compute_ofi_best(bid_deltas, ask_deltas),\n",
    "        \"ofi_multi\": compute_ofi_multi(bid_deltas, ask_deltas),\n",
    "        \"ofi_integrated\": compute_ofi_integrated(bid_deltas, ask_deltas)\n",
    "    })\n",
    "    return ofi_df\n",
    "\n",
    "# --------------------------\n",
    "# Main execution\n",
    "# --------------------------\n",
    "\n",
    "# Load the dataset (adjust path as needed)\n",
    "df = pd.read_csv(\"first_25000_rows.csv\")\n",
    "\n",
    "# Generate OFI features\n",
    "ofi_features = build_ofi_features(df, levels=10)\n",
    "\n",
    "# Display the first few rows\n",
    "print(ofi_features.head())\n",
    "\n",
    "# Optionally, save to CSV\n",
    "ofi_features.to_csv(\"ofi_features.csv\", index=False)\n",
    "\n"
   ]
  }
 ],
 "metadata": {
  "kernelspec": {
   "display_name": "Python [conda env:base] *",
   "language": "python",
   "name": "conda-base-py"
  },
  "language_info": {
   "codemirror_mode": {
    "name": "ipython",
    "version": 3
   },
   "file_extension": ".py",
   "mimetype": "text/x-python",
   "name": "python",
   "nbconvert_exporter": "python",
   "pygments_lexer": "ipython3",
   "version": "3.12.3"
  }
 },
 "nbformat": 4,
 "nbformat_minor": 5
}
